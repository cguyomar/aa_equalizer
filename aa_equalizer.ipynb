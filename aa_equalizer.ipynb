{
 "cells": [
  {
   "cell_type": "markdown",
   "metadata": {},
   "source": [
    "# Amino acid equalizer\n",
    "\n",
    "**Goal :** find the shortest substring to replace in a amino acid sequence to make every aa equally abundant"
   ]
  },
  {
   "cell_type": "code",
   "execution_count": 3,
   "metadata": {},
   "outputs": [
    {
     "data": {
      "text/plain": [
       "find_subseq (generic function with 1 method)"
      ]
     },
     "execution_count": 3,
     "metadata": {},
     "output_type": "execute_result"
    }
   ],
   "source": [
    "\n",
    "function count_aa(seq::String)\n",
    "    d = Dict{Char, Int}()\n",
    "    for val in seq\n",
    "        d[val] = get!(d, val, 0) + 1\n",
    "    end\n",
    "    return d\n",
    "end\n",
    "\n",
    "# To test is a substring is a solution, we check if the aa in excess (positive targetCount) are present in sufficient number\n",
    "function test_subseq(subCounts::Dict{Char,Int64},targetCounts::Dict{Char,Int64})\n",
    "    for aa in keys(subCounts)\n",
    "        if subCounts[aa] < get(targetCounts,aa,0)\n",
    "            return(false)\n",
    "        end\n",
    "    end\n",
    "    return(true)\n",
    "end\n",
    "\n",
    "function find_subseq(seq::String)\n",
    "    seqCounts = count_aa(seq)\n",
    "    targetCounts = Dict(zip(keys(seqCounts),collect(values(seqCounts))-40))\n",
    "\n",
    "    minLength = Int(sum(abs.(collect(values(targetCounts))))/2)\n",
    "    n = length(seq)\n",
    "\n",
    "    found = false\n",
    "    l = minLength\n",
    "\n",
    "    while found == false && l < n\n",
    "        #println(l)\n",
    "        for pos in 1:(n-l+1)\n",
    "            subseq = seq[pos:pos+l-1]\n",
    "            subCounts = count_aa(subseq)\n",
    "            if  test_subseq(subCounts,targetCounts)\n",
    "                found = true\n",
    "                break\n",
    "            end\n",
    "        end\n",
    "        l = l+1\n",
    "    end\n",
    "\n",
    "    println(\"Solution length : \" * string(l-1))\n",
    "    println(\"Solution first position :\" * string(pos))\n",
    "    println(\"Soution sequence : \" * subseq)\n",
    "\n",
    "    return(l-1)\n",
    "end\n",
    "\n"
   ]
  },
  {
   "cell_type": "code",
   "execution_count": 4,
   "metadata": {},
   "outputs": [
    {
     "name": "stdout",
     "output_type": "stream",
     "text": [
      "Solution length : 406\n"
     ]
    },
    {
     "ename": "LoadError",
     "evalue": "\u001b[91mUndefVarError: pos not defined\u001b[39m",
     "output_type": "error",
     "traceback": [
      "\u001b[91mUndefVarError: pos not defined\u001b[39m",
      "",
      "Stacktrace:",
      " [1] \u001b[1mfind_subseq\u001b[22m\u001b[22m\u001b[1m(\u001b[22m\u001b[22m::String\u001b[1m)\u001b[22m\u001b[22m at \u001b[1m./In[3]:44\u001b[22m\u001b[22m",
      " [2] \u001b[1mexecute_request\u001b[22m\u001b[22m\u001b[1m(\u001b[22m\u001b[22m::ZMQ.Socket, ::IJulia.Msg\u001b[1m)\u001b[22m\u001b[22m at \u001b[1m/home/cguyomar/.julia/v0.6/IJulia/src/execute_request.jl:158\u001b[22m\u001b[22m",
      " [3] \u001b[1m(::Compat.#inner#18{Array{Any,1},IJulia.#execute_request,Tuple{ZMQ.Socket,IJulia.Msg}})\u001b[22m\u001b[22m\u001b[1m(\u001b[22m\u001b[22m\u001b[1m)\u001b[22m\u001b[22m at \u001b[1m/home/cguyomar/.julia/v0.6/Compat/src/Compat.jl:378\u001b[22m\u001b[22m",
      " [4] \u001b[1meventloop\u001b[22m\u001b[22m\u001b[1m(\u001b[22m\u001b[22m::ZMQ.Socket\u001b[1m)\u001b[22m\u001b[22m at \u001b[1m/home/cguyomar/.julia/v0.6/IJulia/src/eventloop.jl:8\u001b[22m\u001b[22m",
      " [5] \u001b[1m(::IJulia.##14#17)\u001b[22m\u001b[22m\u001b[1m(\u001b[22m\u001b[22m\u001b[1m)\u001b[22m\u001b[22m at \u001b[1m./task.jl:335\u001b[22m\u001b[22m"
     ]
    }
   ],
   "source": [
    "seq = \"ASQLDRFRVFLGWDNGMMLVYQGNKTYEPWLNCDMASPTLSLVSKKAPKILKAADINTTLQPCLAFFIELLLKGIDNERIPNSGSGGREMGLLAPTYSSEATLVTRENNMMEGVHGFENMQDVEVIKLKLPEGYSDVCHFMFMLAGILYIVYDLQMHMSSERETGKFPNPLSDEEFDNPKVVVTNSFVLLEFTVTGAGARPSEQGQEPHNLGATKGSLAISSKTPEIHKDTNPASAQFEGKHTESDAKGVSNEDVFITKERDGREVEPTIKLSKKSVLNPMNVVYNPMLQISEGALRKHSMNDEITILNNTLINKERSVDLGAVSFVNDLLIDKLGCVSGKLAVQLNQSAPPEILHGKDPLTLFLGNTIALMLSKMQRIRVWEEYIFLNLHLALAWEPLLGNLKTHDSQKKWALCGFLIISRIRNLFESEGPVHGLRFSAMPCNTDTRQIKALERFPYAPEKPQWHGDELESPCRLVVASKLLASHDGVSIGKTIGSWPLPAQRYNAYVAWAANDSSILSARPGFAVKEDRLGHSLAQESGTIVVRNPQYGVRFINYNKDEHREFKREATFYPKTVVTHLGAIEGTLMFEIGDAAFTMLHLEEATDAEVRELYYMDMLDKKSSLGRACERIRRVLAPGDHKANGLESAIVSGQNGYEGRIRGLQTFQSNPLKKGRTHMAFCTTLHPFGGLKLVSSQLLKKELAVGTYGHQRTVLHSAEYSCPTSIPNLEGLMYNLISAQGEVNSDAKCHYAALAYICLQVRSVSMNQTEASDLRNFLETPILANDALASEQLLGSKKAKS\"\n",
    "\n",
    "find_subseq(seq)"
   ]
  }
 ],
 "metadata": {
  "kernelspec": {
   "display_name": "Julia 0.6.3",
   "language": "julia",
   "name": "julia-0.6"
  },
  "language_info": {
   "file_extension": ".jl",
   "mimetype": "application/julia",
   "name": "julia",
   "version": "0.6.3"
  }
 },
 "nbformat": 4,
 "nbformat_minor": 2
}
